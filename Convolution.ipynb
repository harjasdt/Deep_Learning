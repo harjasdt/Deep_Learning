{
  "nbformat": 4,
  "nbformat_minor": 0,
  "metadata": {
    "colab": {
      "provenance": [],
      "authorship_tag": "ABX9TyN9DWvKG8l351wAbOeLc4Hm",
      "include_colab_link": true
    },
    "kernelspec": {
      "name": "python3",
      "display_name": "Python 3"
    },
    "language_info": {
      "name": "python"
    }
  },
  "cells": [
    {
      "cell_type": "markdown",
      "metadata": {
        "id": "view-in-github",
        "colab_type": "text"
      },
      "source": [
        "<a href=\"https://colab.research.google.com/github/harjasdt/Deep_Learning/blob/main/Convolution.ipynb\" target=\"_parent\"><img src=\"https://colab.research.google.com/assets/colab-badge.svg\" alt=\"Open In Colab\"/></a>"
      ]
    },
    {
      "cell_type": "code",
      "source": [
        "\n",
        "# import libraries\n",
        "import numpy as np\n",
        "import torch\n",
        "import torch.nn as nn"
      ],
      "metadata": {
        "id": "80Iq-xD81OqR"
      },
      "execution_count": 2,
      "outputs": []
    },
    {
      "cell_type": "code",
      "execution_count": 3,
      "metadata": {
        "colab": {
          "base_uri": "https://localhost:8080/"
        },
        "id": "YpbLabub0-MR",
        "outputId": "fbe219b2-0993-4d6f-8fc0-af531e91bdc1"
      },
      "outputs": [
        {
          "output_type": "stream",
          "name": "stdout",
          "text": [
            "Expected size: [  1 252  84]\n",
            "Empirical size: [252, 84]\n"
          ]
        }
      ],
      "source": [
        "# parameters\n",
        "inChans  = 1 # RGB\n",
        "imsize   = [256,256]\n",
        "outChans = 1\n",
        "krnSize  = 7 # should be an odd number\n",
        "stride   = (1,3)\n",
        "padding  = 1\n",
        "\n",
        "# create the instance\n",
        "c = nn.Conv2d(inChans,outChans,krnSize,stride,padding)\n",
        "\n",
        "# create an image\n",
        "img = torch.rand(1,inChans,imsize[0],imsize[1])\n",
        "\n",
        "# run convolution and compute its shape\n",
        "resimg = c(img)\n",
        "empSize = torch.squeeze(resimg).shape\n",
        "\n",
        "# compute the size of the result according to the formula\n",
        "expectSize = np.array([outChans,0,0],dtype=int)\n",
        "expectSize[1] = np.floor( (imsize[0]+2*padding-krnSize)/stride[0] ) + 1\n",
        "expectSize[2] = np.floor( (imsize[1]+2*padding-krnSize)/stride[1] ) + 1\n",
        "\n",
        "# check the size of the output\n",
        "print(f'Expected size: {expectSize}')\n",
        "print(f'Empirical size: {list(empSize)}')"
      ]
    },
    {
      "cell_type": "markdown",
      "source": [
        "1) Convolve an image of size 3x64x64 to produce a 10x28x28 result\n"
      ],
      "metadata": {
        "id": "OfhKM3Ts1KCI"
      }
    },
    {
      "cell_type": "code",
      "source": [
        "# parameters\n",
        "inChans  = 3\n",
        "imsize   = [64,64]\n",
        "outChans = 10\n",
        "krnSize  = 9\n",
        "stride   = (2,2)\n",
        "padding  = 0\n",
        "\n",
        "# create the instance\n",
        "c = nn.Conv2d(inChans,outChans,krnSize,stride,padding)\n",
        "\n",
        "# create an image\n",
        "img = torch.rand(1,inChans,imsize[0],imsize[1])\n",
        "\n",
        "# run convolution and compute its shape\n",
        "resimg = c(img)\n",
        "empSize = torch.squeeze(resimg).shape\n",
        "\n",
        "# compute the size of the result according to the formula\n",
        "expectSize = np.array([outChans,0,0],dtype=int)\n",
        "expectSize[1] = np.floor( (imsize[0]+2*padding-krnSize)/stride[0] ) + 1\n",
        "expectSize[2] = np.floor( (imsize[1]+2*padding-krnSize)/stride[1] ) + 1\n",
        "\n",
        "# check the size of the output\n",
        "print(f'Expected size: {expectSize}')\n",
        "print(f'Empirical size: {list(empSize)}')"
      ],
      "metadata": {
        "colab": {
          "base_uri": "https://localhost:8080/"
        },
        "id": "EPih8WWU1Bfv",
        "outputId": "a50eccea-4652-4aa0-bc15-391a98edf1bb"
      },
      "execution_count": 13,
      "outputs": [
        {
          "output_type": "stream",
          "name": "stdout",
          "text": [
            "Expected size: [10 28 28]\n",
            "Empirical size: [10, 28, 28]\n"
          ]
        }
      ]
    },
    {
      "cell_type": "code",
      "source": [],
      "metadata": {
        "id": "jbbdMZJG1agV"
      },
      "execution_count": null,
      "outputs": []
    }
  ]
}